{
 "cells": [
  {
   "cell_type": "markdown",
   "metadata": {},
   "source": [
    "@article{Pilgrim2021, \n",
    "         doi = {10.21105/joss.03859}, \n",
    "         url = {https://doi.org/10.21105/joss.03859}, \n",
    "         year = {2021}, publisher = {The Open Journal}, \n",
    "         volume = {6}, \n",
    "         number = {68}, \n",
    "         pages = {3859}, \n",
    "         author = {Charlie Pilgrim}, \n",
    "         title = {piecewise-regression (aka segmented regression) in Python}, \n",
    "         journal = {Journal of Open Source Software} \n",
    "        }"
   ]
  },
  {
   "cell_type": "code",
   "execution_count": 1,
   "metadata": {},
   "outputs": [],
   "source": [
    "# General-level imports\n",
    "import os\n",
    "import numpy as np\n",
    "import pandas as pd\n",
    "import matplotlib.pyplot as plt\n",
    "\n",
    "# Special-case libraries/modules\n",
    "import piecewise_regression\n",
    "\n",
    "# Personal/local libraries and module imports\n",
    "import reg"
   ]
  },
  {
   "cell_type": "code",
   "execution_count": 2,
   "metadata": {},
   "outputs": [],
   "source": [
    "path = f\"data{os.sep}\"\n",
    "filenames = [\"phys_data_2023-03-12_side0.csv\"]\n",
    "\n",
    "index = 0\n",
    "\n",
    "df = pd.read_csv(f\"{path}{filenames[index]}\", parse_dates=True, index_col=\"TimeUTC\")"
   ]
  },
  {
   "cell_type": "code",
   "execution_count": 6,
   "metadata": {},
   "outputs": [
    {
     "data": {
      "text/html": [
       "<div>\n",
       "<style scoped>\n",
       "    .dataframe tbody tr th:only-of-type {\n",
       "        vertical-align: middle;\n",
       "    }\n",
       "\n",
       "    .dataframe tbody tr th {\n",
       "        vertical-align: top;\n",
       "    }\n",
       "\n",
       "    .dataframe thead th {\n",
       "        text-align: right;\n",
       "    }\n",
       "</style>\n",
       "<table border=\"1\" class=\"dataframe\">\n",
       "  <thead>\n",
       "    <tr style=\"text-align: right;\">\n",
       "      <th></th>\n",
       "      <th>P1</th>\n",
       "      <th>P2</th>\n",
       "      <th>P3</th>\n",
       "      <th>P4</th>\n",
       "      <th>P5</th>\n",
       "      <th>P6</th>\n",
       "      <th>P7</th>\n",
       "      <th>P8</th>\n",
       "      <th>P9</th>\n",
       "      <th>E1</th>\n",
       "      <th>E2</th>\n",
       "      <th>E3</th>\n",
       "      <th>E4</th>\n",
       "      <th>E5</th>\n",
       "      <th>E6</th>\n",
       "      <th>E7</th>\n",
       "      <th>DT</th>\n",
       "      <th>PA</th>\n",
       "    </tr>\n",
       "    <tr>\n",
       "      <th>TimeUTC</th>\n",
       "      <th></th>\n",
       "      <th></th>\n",
       "      <th></th>\n",
       "      <th></th>\n",
       "      <th></th>\n",
       "      <th></th>\n",
       "      <th></th>\n",
       "      <th></th>\n",
       "      <th></th>\n",
       "      <th></th>\n",
       "      <th></th>\n",
       "      <th></th>\n",
       "      <th></th>\n",
       "      <th></th>\n",
       "      <th></th>\n",
       "      <th></th>\n",
       "      <th></th>\n",
       "      <th></th>\n",
       "    </tr>\n",
       "  </thead>\n",
       "  <tbody>\n",
       "    <tr>\n",
       "      <th>2023-03-12 00:00:00</th>\n",
       "      <td>0.0</td>\n",
       "      <td>0.00</td>\n",
       "      <td>0.00</td>\n",
       "      <td>0.00</td>\n",
       "      <td>0.000</td>\n",
       "      <td>0.000</td>\n",
       "      <td>0.000</td>\n",
       "      <td>0.0000</td>\n",
       "      <td>0.0000</td>\n",
       "      <td>0.0</td>\n",
       "      <td>0.0</td>\n",
       "      <td>11.40</td>\n",
       "      <td>0.0</td>\n",
       "      <td>0.0</td>\n",
       "      <td>0.000</td>\n",
       "      <td>0.000</td>\n",
       "      <td>0.00</td>\n",
       "      <td>86.490453</td>\n",
       "    </tr>\n",
       "    <tr>\n",
       "      <th>2023-03-12 00:00:24</th>\n",
       "      <td>0.0</td>\n",
       "      <td>0.00</td>\n",
       "      <td>0.00</td>\n",
       "      <td>0.00</td>\n",
       "      <td>0.000</td>\n",
       "      <td>0.000</td>\n",
       "      <td>0.000</td>\n",
       "      <td>0.0000</td>\n",
       "      <td>0.0144</td>\n",
       "      <td>167.0</td>\n",
       "      <td>0.0</td>\n",
       "      <td>7.58</td>\n",
       "      <td>0.0</td>\n",
       "      <td>0.0</td>\n",
       "      <td>0.000</td>\n",
       "      <td>0.000</td>\n",
       "      <td>0.00</td>\n",
       "      <td>81.321720</td>\n",
       "    </tr>\n",
       "    <tr>\n",
       "      <th>2023-03-12 00:00:48</th>\n",
       "      <td>0.0</td>\n",
       "      <td>0.00</td>\n",
       "      <td>0.00</td>\n",
       "      <td>0.00</td>\n",
       "      <td>0.000</td>\n",
       "      <td>0.000</td>\n",
       "      <td>0.000</td>\n",
       "      <td>0.0000</td>\n",
       "      <td>0.0000</td>\n",
       "      <td>0.0</td>\n",
       "      <td>0.0</td>\n",
       "      <td>0.00</td>\n",
       "      <td>0.0</td>\n",
       "      <td>0.0</td>\n",
       "      <td>0.627</td>\n",
       "      <td>0.000</td>\n",
       "      <td>0.00</td>\n",
       "      <td>69.690026</td>\n",
       "    </tr>\n",
       "    <tr>\n",
       "      <th>2023-03-12 00:01:12</th>\n",
       "      <td>0.0</td>\n",
       "      <td>0.00</td>\n",
       "      <td>0.00</td>\n",
       "      <td>0.00</td>\n",
       "      <td>0.000</td>\n",
       "      <td>0.000</td>\n",
       "      <td>0.000</td>\n",
       "      <td>0.0000</td>\n",
       "      <td>0.0000</td>\n",
       "      <td>112.0</td>\n",
       "      <td>17.6</td>\n",
       "      <td>0.00</td>\n",
       "      <td>0.0</td>\n",
       "      <td>0.0</td>\n",
       "      <td>0.313</td>\n",
       "      <td>0.000</td>\n",
       "      <td>0.00</td>\n",
       "      <td>70.727876</td>\n",
       "    </tr>\n",
       "    <tr>\n",
       "      <th>2023-03-12 00:01:36</th>\n",
       "      <td>0.0</td>\n",
       "      <td>0.00</td>\n",
       "      <td>0.00</td>\n",
       "      <td>0.00</td>\n",
       "      <td>0.000</td>\n",
       "      <td>0.000</td>\n",
       "      <td>0.000</td>\n",
       "      <td>0.0000</td>\n",
       "      <td>0.0000</td>\n",
       "      <td>55.8</td>\n",
       "      <td>0.0</td>\n",
       "      <td>0.00</td>\n",
       "      <td>0.0</td>\n",
       "      <td>0.0</td>\n",
       "      <td>0.000</td>\n",
       "      <td>0.000</td>\n",
       "      <td>0.00</td>\n",
       "      <td>68.520445</td>\n",
       "    </tr>\n",
       "    <tr>\n",
       "      <th>...</th>\n",
       "      <td>...</td>\n",
       "      <td>...</td>\n",
       "      <td>...</td>\n",
       "      <td>...</td>\n",
       "      <td>...</td>\n",
       "      <td>...</td>\n",
       "      <td>...</td>\n",
       "      <td>...</td>\n",
       "      <td>...</td>\n",
       "      <td>...</td>\n",
       "      <td>...</td>\n",
       "      <td>...</td>\n",
       "      <td>...</td>\n",
       "      <td>...</td>\n",
       "      <td>...</td>\n",
       "      <td>...</td>\n",
       "      <td>...</td>\n",
       "      <td>...</td>\n",
       "    </tr>\n",
       "    <tr>\n",
       "      <th>2023-03-14 23:58:00</th>\n",
       "      <td>61.2</td>\n",
       "      <td>7.14</td>\n",
       "      <td>3.95</td>\n",
       "      <td>3.42</td>\n",
       "      <td>1.590</td>\n",
       "      <td>0.000</td>\n",
       "      <td>0.142</td>\n",
       "      <td>0.0671</td>\n",
       "      <td>0.0144</td>\n",
       "      <td>7090.0</td>\n",
       "      <td>2200.0</td>\n",
       "      <td>865.00</td>\n",
       "      <td>325.0</td>\n",
       "      <td>10.5</td>\n",
       "      <td>0.314</td>\n",
       "      <td>0.000</td>\n",
       "      <td>1.29</td>\n",
       "      <td>100.899747</td>\n",
       "    </tr>\n",
       "    <tr>\n",
       "      <th>2023-03-14 23:58:24</th>\n",
       "      <td>24.5</td>\n",
       "      <td>14.30</td>\n",
       "      <td>9.88</td>\n",
       "      <td>5.70</td>\n",
       "      <td>1.590</td>\n",
       "      <td>0.954</td>\n",
       "      <td>0.142</td>\n",
       "      <td>0.0671</td>\n",
       "      <td>0.0000</td>\n",
       "      <td>5030.0</td>\n",
       "      <td>1920.0</td>\n",
       "      <td>819.00</td>\n",
       "      <td>309.0</td>\n",
       "      <td>21.0</td>\n",
       "      <td>0.000</td>\n",
       "      <td>0.088</td>\n",
       "      <td>1.12</td>\n",
       "      <td>84.530333</td>\n",
       "    </tr>\n",
       "    <tr>\n",
       "      <th>2023-03-14 23:58:48</th>\n",
       "      <td>61.2</td>\n",
       "      <td>21.40</td>\n",
       "      <td>9.89</td>\n",
       "      <td>2.28</td>\n",
       "      <td>1.590</td>\n",
       "      <td>0.000</td>\n",
       "      <td>0.142</td>\n",
       "      <td>0.0671</td>\n",
       "      <td>0.0000</td>\n",
       "      <td>6480.0</td>\n",
       "      <td>2360.0</td>\n",
       "      <td>895.00</td>\n",
       "      <td>262.0</td>\n",
       "      <td>16.8</td>\n",
       "      <td>0.314</td>\n",
       "      <td>0.000</td>\n",
       "      <td>1.46</td>\n",
       "      <td>95.456014</td>\n",
       "    </tr>\n",
       "    <tr>\n",
       "      <th>2023-03-14 23:59:12</th>\n",
       "      <td>48.9</td>\n",
       "      <td>14.30</td>\n",
       "      <td>5.93</td>\n",
       "      <td>5.70</td>\n",
       "      <td>1.590</td>\n",
       "      <td>0.954</td>\n",
       "      <td>0.000</td>\n",
       "      <td>0.0671</td>\n",
       "      <td>0.0000</td>\n",
       "      <td>6420.0</td>\n",
       "      <td>2390.0</td>\n",
       "      <td>895.00</td>\n",
       "      <td>325.0</td>\n",
       "      <td>14.7</td>\n",
       "      <td>0.000</td>\n",
       "      <td>0.000</td>\n",
       "      <td>1.29</td>\n",
       "      <td>101.019541</td>\n",
       "    </tr>\n",
       "    <tr>\n",
       "      <th>2023-03-14 23:59:36</th>\n",
       "      <td>61.2</td>\n",
       "      <td>7.14</td>\n",
       "      <td>0.00</td>\n",
       "      <td>1.14</td>\n",
       "      <td>0.795</td>\n",
       "      <td>1.190</td>\n",
       "      <td>0.000</td>\n",
       "      <td>0.0000</td>\n",
       "      <td>0.0000</td>\n",
       "      <td>6700.0</td>\n",
       "      <td>1810.0</td>\n",
       "      <td>827.00</td>\n",
       "      <td>325.0</td>\n",
       "      <td>23.1</td>\n",
       "      <td>0.627</td>\n",
       "      <td>0.000</td>\n",
       "      <td>1.17</td>\n",
       "      <td>107.450316</td>\n",
       "    </tr>\n",
       "  </tbody>\n",
       "</table>\n",
       "<p>10800 rows × 18 columns</p>\n",
       "</div>"
      ],
      "text/plain": [
       "                       P1     P2    P3    P4     P5     P6     P7      P8  \\\n",
       "TimeUTC                                                                     \n",
       "2023-03-12 00:00:00   0.0   0.00  0.00  0.00  0.000  0.000  0.000  0.0000   \n",
       "2023-03-12 00:00:24   0.0   0.00  0.00  0.00  0.000  0.000  0.000  0.0000   \n",
       "2023-03-12 00:00:48   0.0   0.00  0.00  0.00  0.000  0.000  0.000  0.0000   \n",
       "2023-03-12 00:01:12   0.0   0.00  0.00  0.00  0.000  0.000  0.000  0.0000   \n",
       "2023-03-12 00:01:36   0.0   0.00  0.00  0.00  0.000  0.000  0.000  0.0000   \n",
       "...                   ...    ...   ...   ...    ...    ...    ...     ...   \n",
       "2023-03-14 23:58:00  61.2   7.14  3.95  3.42  1.590  0.000  0.142  0.0671   \n",
       "2023-03-14 23:58:24  24.5  14.30  9.88  5.70  1.590  0.954  0.142  0.0671   \n",
       "2023-03-14 23:58:48  61.2  21.40  9.89  2.28  1.590  0.000  0.142  0.0671   \n",
       "2023-03-14 23:59:12  48.9  14.30  5.93  5.70  1.590  0.954  0.000  0.0671   \n",
       "2023-03-14 23:59:36  61.2   7.14  0.00  1.14  0.795  1.190  0.000  0.0000   \n",
       "\n",
       "                         P9      E1      E2      E3     E4    E5     E6  \\\n",
       "TimeUTC                                                                   \n",
       "2023-03-12 00:00:00  0.0000     0.0     0.0   11.40    0.0   0.0  0.000   \n",
       "2023-03-12 00:00:24  0.0144   167.0     0.0    7.58    0.0   0.0  0.000   \n",
       "2023-03-12 00:00:48  0.0000     0.0     0.0    0.00    0.0   0.0  0.627   \n",
       "2023-03-12 00:01:12  0.0000   112.0    17.6    0.00    0.0   0.0  0.313   \n",
       "2023-03-12 00:01:36  0.0000    55.8     0.0    0.00    0.0   0.0  0.000   \n",
       "...                     ...     ...     ...     ...    ...   ...    ...   \n",
       "2023-03-14 23:58:00  0.0144  7090.0  2200.0  865.00  325.0  10.5  0.314   \n",
       "2023-03-14 23:58:24  0.0000  5030.0  1920.0  819.00  309.0  21.0  0.000   \n",
       "2023-03-14 23:58:48  0.0000  6480.0  2360.0  895.00  262.0  16.8  0.314   \n",
       "2023-03-14 23:59:12  0.0000  6420.0  2390.0  895.00  325.0  14.7  0.000   \n",
       "2023-03-14 23:59:36  0.0000  6700.0  1810.0  827.00  325.0  23.1  0.627   \n",
       "\n",
       "                        E7    DT          PA  \n",
       "TimeUTC                                       \n",
       "2023-03-12 00:00:00  0.000  0.00   86.490453  \n",
       "2023-03-12 00:00:24  0.000  0.00   81.321720  \n",
       "2023-03-12 00:00:48  0.000  0.00   69.690026  \n",
       "2023-03-12 00:01:12  0.000  0.00   70.727876  \n",
       "2023-03-12 00:01:36  0.000  0.00   68.520445  \n",
       "...                    ...   ...         ...  \n",
       "2023-03-14 23:58:00  0.000  1.29  100.899747  \n",
       "2023-03-14 23:58:24  0.088  1.12   84.530333  \n",
       "2023-03-14 23:58:48  0.000  1.46   95.456014  \n",
       "2023-03-14 23:59:12  0.000  1.29  101.019541  \n",
       "2023-03-14 23:59:36  0.000  1.17  107.450316  \n",
       "\n",
       "[10800 rows x 18 columns]"
      ]
     },
     "execution_count": 6,
     "metadata": {},
     "output_type": "execute_result"
    }
   ],
   "source": [
    "df"
   ]
  },
  {
   "cell_type": "code",
   "execution_count": 4,
   "metadata": {},
   "outputs": [
    {
     "data": {
      "image/png": "[encoded data removed]",
      "text/plain": [
       "<Figure size 2600x1100 with 1 Axes>"
      ]
     },
     "metadata": {},
     "output_type": "display_data"
    }
   ],
   "source": [
    "reg.quicklook(data=df, channel=\"P1\", resample=None)"
   ]
  },
  {
   "cell_type": "code",
   "execution_count": 5,
   "metadata": {},
   "outputs": [
    {
     "data": {
      "text/html": [
       "<div>\n",
       "<style scoped>\n",
       "    .dataframe tbody tr th:only-of-type {\n",
       "        vertical-align: middle;\n",
       "    }\n",
       "\n",
       "    .dataframe tbody tr th {\n",
       "        vertical-align: top;\n",
       "    }\n",
       "\n",
       "    .dataframe thead th {\n",
       "        text-align: right;\n",
       "    }\n",
       "</style>\n",
       "<table border=\"1\" class=\"dataframe\">\n",
       "  <thead>\n",
       "    <tr style=\"text-align: right;\">\n",
       "      <th></th>\n",
       "      <th>P1</th>\n",
       "      <th>time_s</th>\n",
       "      <th>counting_numbers</th>\n",
       "    </tr>\n",
       "    <tr>\n",
       "      <th>TimeUTC</th>\n",
       "      <th></th>\n",
       "      <th></th>\n",
       "      <th></th>\n",
       "    </tr>\n",
       "  </thead>\n",
       "  <tbody>\n",
       "    <tr>\n",
       "      <th>2023-03-12 00:02:00</th>\n",
       "      <td>12.2</td>\n",
       "      <td>1678572120</td>\n",
       "      <td>5</td>\n",
       "    </tr>\n",
       "    <tr>\n",
       "      <th>2023-03-12 00:06:00</th>\n",
       "      <td>12.2</td>\n",
       "      <td>1678572360</td>\n",
       "      <td>15</td>\n",
       "    </tr>\n",
       "    <tr>\n",
       "      <th>2023-03-12 00:08:48</th>\n",
       "      <td>12.2</td>\n",
       "      <td>1678572528</td>\n",
       "      <td>22</td>\n",
       "    </tr>\n",
       "    <tr>\n",
       "      <th>2023-03-12 00:24:48</th>\n",
       "      <td>12.2</td>\n",
       "      <td>1678573488</td>\n",
       "      <td>62</td>\n",
       "    </tr>\n",
       "    <tr>\n",
       "      <th>2023-03-12 00:29:12</th>\n",
       "      <td>12.2</td>\n",
       "      <td>1678573752</td>\n",
       "      <td>73</td>\n",
       "    </tr>\n",
       "    <tr>\n",
       "      <th>...</th>\n",
       "      <td>...</td>\n",
       "      <td>...</td>\n",
       "      <td>...</td>\n",
       "    </tr>\n",
       "    <tr>\n",
       "      <th>2023-03-14 23:58:00</th>\n",
       "      <td>61.2</td>\n",
       "      <td>1678831080</td>\n",
       "      <td>10795</td>\n",
       "    </tr>\n",
       "    <tr>\n",
       "      <th>2023-03-14 23:58:24</th>\n",
       "      <td>24.5</td>\n",
       "      <td>1678831104</td>\n",
       "      <td>10796</td>\n",
       "    </tr>\n",
       "    <tr>\n",
       "      <th>2023-03-14 23:58:48</th>\n",
       "      <td>61.2</td>\n",
       "      <td>1678831128</td>\n",
       "      <td>10797</td>\n",
       "    </tr>\n",
       "    <tr>\n",
       "      <th>2023-03-14 23:59:12</th>\n",
       "      <td>48.9</td>\n",
       "      <td>1678831152</td>\n",
       "      <td>10798</td>\n",
       "    </tr>\n",
       "    <tr>\n",
       "      <th>2023-03-14 23:59:36</th>\n",
       "      <td>61.2</td>\n",
       "      <td>1678831176</td>\n",
       "      <td>10799</td>\n",
       "    </tr>\n",
       "  </tbody>\n",
       "</table>\n",
       "<p>6277 rows × 3 columns</p>\n",
       "</div>"
      ],
      "text/plain": [
       "                       P1      time_s  counting_numbers\n",
       "TimeUTC                                                \n",
       "2023-03-12 00:02:00  12.2  1678572120                 5\n",
       "2023-03-12 00:06:00  12.2  1678572360                15\n",
       "2023-03-12 00:08:48  12.2  1678572528                22\n",
       "2023-03-12 00:24:48  12.2  1678573488                62\n",
       "2023-03-12 00:29:12  12.2  1678573752                73\n",
       "...                   ...         ...               ...\n",
       "2023-03-14 23:58:00  61.2  1678831080             10795\n",
       "2023-03-14 23:58:24  24.5  1678831104             10796\n",
       "2023-03-14 23:58:48  61.2  1678831128             10797\n",
       "2023-03-14 23:59:12  48.9  1678831152             10798\n",
       "2023-03-14 23:59:36  61.2  1678831176             10799\n",
       "\n",
       "[6277 rows x 3 columns]"
      ]
     },
     "metadata": {},
     "output_type": "display_data"
    }
   ],
   "source": [
    "df1 = reg.produce_index_numbers(df=df)\n",
    "df1 = reg.select_channel_nonzero_ints(df=df1, channel=\"P1\")\n",
    "display(df1)"
   ]
  },
  {
   "cell_type": "code",
   "execution_count": 15,
   "metadata": {},
   "outputs": [
    {
     "data": {
      "text/html": [
       "<div>\n",
       "<style scoped>\n",
       "    .dataframe tbody tr th:only-of-type {\n",
       "        vertical-align: middle;\n",
       "    }\n",
       "\n",
       "    .dataframe tbody tr th {\n",
       "        vertical-align: top;\n",
       "    }\n",
       "\n",
       "    .dataframe thead th {\n",
       "        text-align: right;\n",
       "    }\n",
       "</style>\n",
       "<table border=\"1\" class=\"dataframe\">\n",
       "  <thead>\n",
       "    <tr style=\"text-align: right;\">\n",
       "      <th></th>\n",
       "      <th>P1</th>\n",
       "      <th>time_s</th>\n",
       "      <th>counting_numbers</th>\n",
       "    </tr>\n",
       "    <tr>\n",
       "      <th>TimeUTC</th>\n",
       "      <th></th>\n",
       "      <th></th>\n",
       "      <th></th>\n",
       "    </tr>\n",
       "  </thead>\n",
       "  <tbody>\n",
       "    <tr>\n",
       "      <th>2023-03-12 02:04:00</th>\n",
       "      <td>24.4</td>\n",
       "      <td>1678579440</td>\n",
       "      <td>310</td>\n",
       "    </tr>\n",
       "    <tr>\n",
       "      <th>2023-03-12 02:05:12</th>\n",
       "      <td>NaN</td>\n",
       "      <td>1678579512</td>\n",
       "      <td>313</td>\n",
       "    </tr>\n",
       "    <tr>\n",
       "      <th>2023-03-12 02:05:36</th>\n",
       "      <td>NaN</td>\n",
       "      <td>1678579536</td>\n",
       "      <td>314</td>\n",
       "    </tr>\n",
       "  </tbody>\n",
       "</table>\n",
       "</div>"
      ],
      "text/plain": [
       "                       P1      time_s  counting_numbers\n",
       "TimeUTC                                                \n",
       "2023-03-12 02:04:00  24.4  1678579440               310\n",
       "2023-03-12 02:05:12   NaN  1678579512               313\n",
       "2023-03-12 02:05:36   NaN  1678579536               314"
      ]
     },
     "execution_count": 15,
     "metadata": {},
     "output_type": "execute_result"
    }
   ],
   "source": [
    "df1.iloc[20:23]"
   ]
  },
  {
   "cell_type": "code",
   "execution_count": 21,
   "metadata": {},
   "outputs": [
    {
     "data": {
      "text/html": [
       "<div>\n",
       "<style scoped>\n",
       "    .dataframe tbody tr th:only-of-type {\n",
       "        vertical-align: middle;\n",
       "    }\n",
       "\n",
       "    .dataframe tbody tr th {\n",
       "        vertical-align: top;\n",
       "    }\n",
       "\n",
       "    .dataframe thead th {\n",
       "        text-align: right;\n",
       "    }\n",
       "</style>\n",
       "<table border=\"1\" class=\"dataframe\">\n",
       "  <thead>\n",
       "    <tr style=\"text-align: right;\">\n",
       "      <th></th>\n",
       "      <th>P1</th>\n",
       "      <th>P2</th>\n",
       "      <th>P3</th>\n",
       "      <th>P4</th>\n",
       "      <th>P5</th>\n",
       "      <th>P6</th>\n",
       "      <th>P7</th>\n",
       "      <th>P8</th>\n",
       "      <th>P9</th>\n",
       "      <th>E1</th>\n",
       "      <th>E2</th>\n",
       "      <th>E3</th>\n",
       "      <th>E4</th>\n",
       "      <th>E5</th>\n",
       "      <th>E6</th>\n",
       "      <th>E7</th>\n",
       "      <th>DT</th>\n",
       "      <th>PA</th>\n",
       "    </tr>\n",
       "    <tr>\n",
       "      <th>TimeUTC</th>\n",
       "      <th></th>\n",
       "      <th></th>\n",
       "      <th></th>\n",
       "      <th></th>\n",
       "      <th></th>\n",
       "      <th></th>\n",
       "      <th></th>\n",
       "      <th></th>\n",
       "      <th></th>\n",
       "      <th></th>\n",
       "      <th></th>\n",
       "      <th></th>\n",
       "      <th></th>\n",
       "      <th></th>\n",
       "      <th></th>\n",
       "      <th></th>\n",
       "      <th></th>\n",
       "      <th></th>\n",
       "    </tr>\n",
       "  </thead>\n",
       "  <tbody>\n",
       "    <tr>\n",
       "      <th>2023-03-12 02:04:48</th>\n",
       "      <td>0.0</td>\n",
       "      <td>0.0</td>\n",
       "      <td>0.0</td>\n",
       "      <td>0.0</td>\n",
       "      <td>0.0</td>\n",
       "      <td>0.0</td>\n",
       "      <td>0.0</td>\n",
       "      <td>0.0</td>\n",
       "      <td>0.0</td>\n",
       "      <td>167.0</td>\n",
       "      <td>0.0</td>\n",
       "      <td>0.0</td>\n",
       "      <td>0.0</td>\n",
       "      <td>0.00</td>\n",
       "      <td>0.0</td>\n",
       "      <td>0.0000</td>\n",
       "      <td>0.0</td>\n",
       "      <td>14.701526</td>\n",
       "    </tr>\n",
       "    <tr>\n",
       "      <th>2023-03-12 02:05:12</th>\n",
       "      <td>NaN</td>\n",
       "      <td>NaN</td>\n",
       "      <td>NaN</td>\n",
       "      <td>NaN</td>\n",
       "      <td>NaN</td>\n",
       "      <td>NaN</td>\n",
       "      <td>NaN</td>\n",
       "      <td>NaN</td>\n",
       "      <td>NaN</td>\n",
       "      <td>NaN</td>\n",
       "      <td>NaN</td>\n",
       "      <td>NaN</td>\n",
       "      <td>NaN</td>\n",
       "      <td>NaN</td>\n",
       "      <td>NaN</td>\n",
       "      <td>NaN</td>\n",
       "      <td>NaN</td>\n",
       "      <td>19.654949</td>\n",
       "    </tr>\n",
       "    <tr>\n",
       "      <th>2023-03-12 02:05:36</th>\n",
       "      <td>NaN</td>\n",
       "      <td>NaN</td>\n",
       "      <td>NaN</td>\n",
       "      <td>NaN</td>\n",
       "      <td>NaN</td>\n",
       "      <td>NaN</td>\n",
       "      <td>NaN</td>\n",
       "      <td>NaN</td>\n",
       "      <td>NaN</td>\n",
       "      <td>NaN</td>\n",
       "      <td>NaN</td>\n",
       "      <td>NaN</td>\n",
       "      <td>NaN</td>\n",
       "      <td>NaN</td>\n",
       "      <td>NaN</td>\n",
       "      <td>NaN</td>\n",
       "      <td>NaN</td>\n",
       "      <td>13.309986</td>\n",
       "    </tr>\n",
       "    <tr>\n",
       "      <th>2023-03-12 02:06:00</th>\n",
       "      <td>0.0</td>\n",
       "      <td>0.0</td>\n",
       "      <td>0.0</td>\n",
       "      <td>0.0</td>\n",
       "      <td>0.0</td>\n",
       "      <td>0.0</td>\n",
       "      <td>0.0</td>\n",
       "      <td>0.0</td>\n",
       "      <td>0.0</td>\n",
       "      <td>55.8</td>\n",
       "      <td>19.6</td>\n",
       "      <td>0.0</td>\n",
       "      <td>0.0</td>\n",
       "      <td>2.09</td>\n",
       "      <td>0.0</td>\n",
       "      <td>0.0879</td>\n",
       "      <td>0.0</td>\n",
       "      <td>15.797598</td>\n",
       "    </tr>\n",
       "  </tbody>\n",
       "</table>\n",
       "</div>"
      ],
      "text/plain": [
       "                      P1   P2   P3   P4   P5   P6   P7   P8   P9     E1    E2  \\\n",
       "TimeUTC                                                                         \n",
       "2023-03-12 02:04:48  0.0  0.0  0.0  0.0  0.0  0.0  0.0  0.0  0.0  167.0   0.0   \n",
       "2023-03-12 02:05:12  NaN  NaN  NaN  NaN  NaN  NaN  NaN  NaN  NaN    NaN   NaN   \n",
       "2023-03-12 02:05:36  NaN  NaN  NaN  NaN  NaN  NaN  NaN  NaN  NaN    NaN   NaN   \n",
       "2023-03-12 02:06:00  0.0  0.0  0.0  0.0  0.0  0.0  0.0  0.0  0.0   55.8  19.6   \n",
       "\n",
       "                      E3   E4    E5   E6      E7   DT         PA  \n",
       "TimeUTC                                                           \n",
       "2023-03-12 02:04:48  0.0  0.0  0.00  0.0  0.0000  0.0  14.701526  \n",
       "2023-03-12 02:05:12  NaN  NaN   NaN  NaN     NaN  NaN  19.654949  \n",
       "2023-03-12 02:05:36  NaN  NaN   NaN  NaN     NaN  NaN  13.309986  \n",
       "2023-03-12 02:06:00  0.0  0.0  2.09  0.0  0.0879  0.0  15.797598  "
      ]
     },
     "execution_count": 21,
     "metadata": {},
     "output_type": "execute_result"
    }
   ],
   "source": [
    "df.iloc[312:316]"
   ]
  },
  {
   "cell_type": "code",
   "execution_count": 8,
   "metadata": {},
   "outputs": [
    {
     "data": {
      "text/plain": [
       "TimeUTC\n",
       "2023-03-12 00:02:00    1.086360\n",
       "2023-03-12 00:06:00    1.086360\n",
       "2023-03-12 00:08:48    1.086360\n",
       "2023-03-12 00:24:48    1.086360\n",
       "2023-03-12 00:29:12    1.086360\n",
       "                         ...   \n",
       "2023-03-14 23:58:00    1.786751\n",
       "2023-03-14 23:58:24    1.389166\n",
       "2023-03-14 23:58:48    1.786751\n",
       "2023-03-14 23:59:12    1.689309\n",
       "2023-03-14 23:59:36    1.786751\n",
       "Name: P1, Length: 6277, dtype: float64"
      ]
     },
     "execution_count": 8,
     "metadata": {},
     "output_type": "execute_result"
    }
   ],
   "source": [
    "s = reg.calc.ints2log10(intensity=df1[\"P1\"])\n",
    "s"
   ]
  },
  {
   "cell_type": "code",
   "execution_count": 10,
   "metadata": {},
   "outputs": [
    {
     "name": "stdout",
     "output_type": "stream",
     "text": [
      "21\n",
      "22\n",
      "224\n",
      "225\n",
      "3634\n",
      "3635\n"
     ]
    }
   ],
   "source": [
    "for i, val in enumerate(s):\n",
    "    if np.isnan(val):\n",
    "        print(i)"
   ]
  },
  {
   "cell_type": "code",
   "execution_count": 12,
   "metadata": {},
   "outputs": [
    {
     "data": {
      "text/plain": [
       "np.float64(nan)"
      ]
     },
     "execution_count": 12,
     "metadata": {},
     "output_type": "execute_result"
    }
   ],
   "source": [
    "s.iat[21]"
   ]
  },
  {
   "cell_type": "code",
   "execution_count": 5,
   "metadata": {},
   "outputs": [],
   "source": [
    "results = reg.workflow(data=df, channel=\"P1\", window=100, threshold=2, diagnostics=True,\n",
    "                              index_choice=\"counting_numbers\")"
   ]
  },
  {
   "cell_type": "code",
   "execution_count": 7,
   "metadata": {},
   "outputs": [
    {
     "data": {
      "text/plain": [
       "TimeUTC\n",
       "2023-03-12 00:02:00    1.086360\n",
       "2023-03-12 00:06:00    1.086360\n",
       "2023-03-12 00:08:48    1.086360\n",
       "2023-03-12 00:24:48    1.086360\n",
       "2023-03-12 00:29:12    1.086360\n",
       "                         ...   \n",
       "2023-03-14 23:58:00    1.786751\n",
       "2023-03-14 23:58:24    1.389166\n",
       "2023-03-14 23:58:48    1.786751\n",
       "2023-03-14 23:59:12    1.689309\n",
       "2023-03-14 23:59:36    1.786751\n",
       "Name: P1, Length: 6277, dtype: float64"
      ]
     },
     "execution_count": 7,
     "metadata": {},
     "output_type": "execute_result"
    }
   ],
   "source": [
    "results"
   ]
  },
  {
   "cell_type": "code",
   "execution_count": 25,
   "metadata": {},
   "outputs": [
    {
     "name": "stdout",
     "output_type": "stream",
     "text": [
      "nan\n",
      "nan\n",
      "nan\n",
      "nan\n",
      "nan\n",
      "nan\n"
     ]
    }
   ],
   "source": [
    "for i, val in enumerate(results):\n",
    "    if np.isnan(val):\n",
    "        print(results.iloc[i])"
   ]
  },
  {
   "cell_type": "raw",
   "metadata": {},
   "source": [
    "fig, ax = plt.subplots()\n",
    "\n",
    "ax.plot(results.index, results.values)"
   ]
  },
  {
   "cell_type": "code",
   "execution_count": 9,
   "metadata": {},
   "outputs": [
    {
     "data": {
      "text/plain": [
       "TimeUTC\n",
       "2023-03-12 00:02:00    1.086360\n",
       "2023-03-12 00:06:00    1.086360\n",
       "2023-03-12 00:08:48    1.086360\n",
       "2023-03-12 00:24:48    1.086360\n",
       "2023-03-12 00:29:12    1.086360\n",
       "                         ...   \n",
       "2023-03-13 09:47:12    2.518514\n",
       "2023-03-13 09:47:36    2.448706\n",
       "2023-03-13 09:48:00    2.578639\n",
       "2023-03-13 09:48:24    2.485721\n",
       "2023-03-13 09:48:48    2.448706\n",
       "Name: P1, Length: 1196, dtype: float64"
      ]
     },
     "execution_count": 9,
     "metadata": {},
     "output_type": "execute_result"
    }
   ],
   "source": [
    "results[\"series\"][0]"
   ]
  },
  {
   "cell_type": "code",
   "execution_count": null,
   "metadata": {},
   "outputs": [],
   "source": []
  },
  {
   "cell_type": "code",
   "execution_count": 24,
   "metadata": {},
   "outputs": [
    {
     "data": {
      "text/plain": [
       "<matplotlib.collections.PathCollection at 0x7f83e5190fe0>"
      ]
     },
     "execution_count": 24,
     "metadata": {},
     "output_type": "execute_result"
    },
    {
     "data": {
      "image/png": "[encoded data removed]",
      "text/plain": [
       "<Figure size 1300x700 with 1 Axes>"
      ]
     },
     "metadata": {},
     "output_type": "display_data"
    }
   ],
   "source": [
    "fig, ax = plt.subplots(figsize=(13,7))\n",
    "\n",
    "ax.scatter(pd.to_datetime(results[\"indices\"], unit='s'), results[\"series\"][0].values)"
   ]
  },
  {
   "cell_type": "code",
   "execution_count": 10,
   "metadata": {},
   "outputs": [],
   "source": [
    "tresult1 = reg.break_regression(ints=results[\"series\"][0].values, indices=results[\"indices\"])"
   ]
  },
  {
   "cell_type": "code",
   "execution_count": 11,
   "metadata": {},
   "outputs": [
    {
     "data": {
      "text/plain": [
       "{'const': {'estimate': np.float64(-2624.103959825126),\n",
       "  'se': np.float64(462.97722519188227),\n",
       "  'confidence_interval': (np.float64(-3532.4449662039287),\n",
       "   np.float64(-1715.762953446323)),\n",
       "  't_stat': np.float64(-5.667889945855454),\n",
       "  'p_t': np.float64(1.811824796103818e-08)},\n",
       " 'beta1': {'estimate': np.float64(6.489959830265322e-05),\n",
       "  'se': np.float64(1.2107367860032303e-06),\n",
       "  'confidence_interval': (np.float64(6.252418583997276e-05),\n",
       "   np.float64(6.727501076533367e-05)),\n",
       "  't_stat': np.float64(53.60339179657176),\n",
       "  'p_t': '-'},\n",
       " 'breakpoint1': {'estimate': np.float64(1678674214.5959358),\n",
       "  'se': np.float64(280.67405980524245),\n",
       "  'confidence_interval': (np.float64(1678673663.9257429),\n",
       "   np.float64(1678674765.2661288)),\n",
       "  't_stat': '-',\n",
       "  'p_t': '-'},\n",
       " 'alpha1': {'estimate': np.float64(1.5639174544343432e-06),\n",
       "  'se': np.float64(2.758042278010548e-07),\n",
       "  'confidence_interval': (np.float64(1.0228016582080642e-06),\n",
       "   np.float64(2.1050332506606225e-06)),\n",
       "  't_stat': np.float64(5.670389706870049),\n",
       "  'p_t': np.float64(1.786269958926697e-08)},\n",
       " 'alpha2': {'estimate': np.float64(6.646351575708757e-05),\n",
       "  'se': np.float64(1.1789044036343974e-06),\n",
       "  'confidence_interval': (np.float64(6.415055703222188e-05),\n",
       "   np.float64(6.877647448195326e-05)),\n",
       "  't_stat': np.float64(56.37735812351692),\n",
       "  'p_t': np.float64(0.0)}}"
      ]
     },
     "execution_count": 11,
     "metadata": {},
     "output_type": "execute_result"
    }
   ],
   "source": [
    "tresult1[\"estimates\"]"
   ]
  },
  {
   "cell_type": "code",
   "execution_count": 16,
   "metadata": {},
   "outputs": [
    {
     "data": {
      "text/plain": [
       "{'const': np.float64(-2624.1039598251155),\n",
       " 'slope1': np.float64(1.5639174544343407e-06),\n",
       " 'slope2': np.float64(6.646351575708757e-05),\n",
       " 'onset_time': Timestamp('2023-03-13 02:23:34.595935822'),\n",
       " 'onset_time_error_minus': Timestamp('2023-03-13 02:14:23.925742865'),\n",
       " 'onset_time_error_plus': Timestamp('2023-03-13 02:32:45.266128778'),\n",
       " 'line1': 1678572120    1.044277\n",
       " 1678572360    1.044653\n",
       " 1678572528    1.044915\n",
       " 1678573488    1.046417\n",
       " 1678573752    1.046829\n",
       "                 ...   \n",
       " 1678674024    1.203647\n",
       " 1678674048    1.203684\n",
       " 1678674096    1.203759\n",
       " 1678674120    1.203797\n",
       " 1678674192    1.203909\n",
       " Length: 411, dtype: float64,\n",
       " 'line2': (1678674216    1.203909\n",
       "  1678674264    1.203976\n",
       "  1678674288    1.204042\n",
       "  1678674312    1.204109\n",
       "  1678674336    1.204176\n",
       "                  ...   \n",
       "  1678693632    1.255817\n",
       "  1678693656    1.255884\n",
       "  1678693680    1.255950\n",
       "  1678693704    1.256017\n",
       "  1678693728    1.256083\n",
       "  Length: 785, dtype: float64,),\n",
       " 'series': (TimeUTC\n",
       "  2023-03-12 00:02:00    1.086360\n",
       "  2023-03-12 00:06:00    1.086360\n",
       "  2023-03-12 00:08:48    1.086360\n",
       "  2023-03-12 00:24:48    1.086360\n",
       "  2023-03-12 00:29:12    1.086360\n",
       "                           ...   \n",
       "  2023-03-13 09:47:12    2.518514\n",
       "  2023-03-13 09:47:36    2.448706\n",
       "  2023-03-13 09:48:00    2.578639\n",
       "  2023-03-13 09:48:24    2.485721\n",
       "  2023-03-13 09:48:48    2.448706\n",
       "  Name: P1, Length: 1196, dtype: float64,),\n",
       " 'indices': array([1678572120, 1678572360, 1678572528, ..., 1678693680, 1678693704,\n",
       "        1678693728], shape=(1196,))}"
      ]
     },
     "execution_count": 16,
     "metadata": {},
     "output_type": "execute_result"
    }
   ],
   "source": [
    "results"
   ]
  },
  {
   "cell_type": "code",
   "execution_count": 25,
   "metadata": {},
   "outputs": [
    {
     "data": {
      "image/png": "[encoded data removed]",
      "text/plain": [
       "<Figure size 1300x700 with 1 Axes>"
      ]
     },
     "execution_count": 25,
     "metadata": {},
     "output_type": "execute_result"
    }
   ],
   "source": [
    "ax.axvline(x=pd.to_datetime(tresult1[\"estimates\"][\"breakpoint1\"][\"estimate\"], unit='s'))\n",
    "\n",
    "fig"
   ]
  },
  {
   "cell_type": "code",
   "execution_count": 13,
   "metadata": {},
   "outputs": [
    {
     "data": {
      "text/plain": [
       "Timestamp('2023-03-13 02:23:34.595935822')"
      ]
     },
     "execution_count": 13,
     "metadata": {},
     "output_type": "execute_result"
    }
   ],
   "source": [
    "pd.to_datetime(tresult1[\"estimates\"][\"breakpoint1\"][\"estimate\"], unit='s')"
   ]
  },
  {
   "cell_type": "code",
   "execution_count": 26,
   "metadata": {},
   "outputs": [],
   "source": [
    "fit1, fit2 = reg.calc_utilities.generate_fit_lines(indices=results[\"indices\"],\n",
    "                                                  const=tresult1[\"estimates\"][\"const\"][\"estimate\"],\n",
    "                                                  alpha1=tresult1[\"estimates\"][\"alpha1\"][\"estimate\"],\n",
    "                                                  alpha2=tresult1[\"estimates\"][\"alpha2\"][\"estimate\"],\n",
    "                                                  break_point=tresult1[\"estimates\"][\"breakpoint1\"][\"estimate\"])"
   ]
  },
  {
   "cell_type": "code",
   "execution_count": 27,
   "metadata": {},
   "outputs": [
    {
     "data": {
      "image/png": "[encoded data removed]",
      "text/plain": [
       "<Figure size 1300x700 with 1 Axes>"
      ]
     },
     "execution_count": 27,
     "metadata": {},
     "output_type": "execute_result"
    }
   ],
   "source": [
    "ax.plot(pd.to_datetime(fit1.index, unit='s'), fit1.values, color=\"red\", ls=\"-\")\n",
    "ax.plot(pd.to_datetime(fit2.index, unit='s'), fit2.values, color=\"red\", ls=\":\")\n",
    "\n",
    "fig"
   ]
  },
  {
   "cell_type": "code",
   "execution_count": 21,
   "metadata": {},
   "outputs": [
    {
     "data": {
      "text/plain": [
       "DatetimeIndex(['2023-03-11 22:02:00', '2023-03-11 22:06:00',\n",
       "               '2023-03-11 22:08:48', '2023-03-11 22:24:48',\n",
       "               '2023-03-11 22:29:12', '2023-03-11 22:29:36',\n",
       "               '2023-03-11 22:32:00', '2023-03-11 22:34:24',\n",
       "               '2023-03-11 22:36:00', '2023-03-11 22:51:36',\n",
       "               ...\n",
       "               '2023-03-13 02:17:36', '2023-03-13 02:18:00',\n",
       "               '2023-03-13 02:18:24', '2023-03-13 02:18:48',\n",
       "               '2023-03-13 02:19:36', '2023-03-13 02:20:24',\n",
       "               '2023-03-13 02:20:48', '2023-03-13 02:21:36',\n",
       "               '2023-03-13 02:22:00', '2023-03-13 02:23:12'],\n",
       "              dtype='datetime64[ns]', length=411, freq=None)"
      ]
     },
     "execution_count": 21,
     "metadata": {},
     "output_type": "execute_result"
    }
   ],
   "source": [
    "pd.to_datetime(fit1.index, unit='s')\n",
    "#fit1.index"
   ]
  },
  {
   "cell_type": "code",
   "execution_count": null,
   "metadata": {},
   "outputs": [],
   "source": []
  },
  {
   "cell_type": "code",
   "execution_count": null,
   "metadata": {},
   "outputs": [],
   "source": []
  }
 ],
 "metadata": {
  "kernelspec": {
   "display_name": "Python 3 (ipykernel)",
   "language": "python",
   "name": "python3"
  },
  "language_info": {
   "codemirror_mode": {
    "name": "ipython",
    "version": 3
   },
   "file_extension": ".py",
   "mimetype": "text/x-python",
   "name": "python",
   "nbconvert_exporter": "python",
   "pygments_lexer": "ipython3",
   "version": "3.12.9"
  }
 },
 "nbformat": 4,
 "nbformat_minor": 4
}
